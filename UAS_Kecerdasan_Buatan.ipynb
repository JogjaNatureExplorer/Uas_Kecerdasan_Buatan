{
  "metadata": {
    "kernelspec": {
      "name": "python",
      "display_name": "Python (Pyodide)",
      "language": "python"
    },
    "language_info": {
      "codemirror_mode": {
        "name": "python",
        "version": 3
      },
      "file_extension": ".py",
      "mimetype": "text/x-python",
      "name": "python",
      "nbconvert_exporter": "python",
      "pygments_lexer": "ipython3",
      "version": "3.8"
    }
  },
  "nbformat_minor": 4,
  "nbformat": 4,
  "cells": [
    {
      "cell_type": "markdown",
      "source": "# Tutorial TensorFlow 2.0: Membangun Jaringan Neural Sederhana\n\nNotebook ini menunjukkan cara membangun jaringan neural sederhana menggunakan TensorFlow 2.0. Tujuannya adalah untuk mengklasifikasikan digit tulisan tangan dari dataset MNIST.\n\n## Langkah 1: Mengimpor Library\n\nPertama, kita perlu mengimpor library yang diperlukan.\n## Langkah 2: Memuat dan Mempersiapkan Data\n\nSelanjutnya, kita memuat dataset MNIST dan mempersiapkan data pelatihan dan pengujian.\n## Langkah 3: Membangun Model\n\nSekarang, kita membangun model jaringan neural sederhana menggunakan API Sequential.\n## Langkah 4: Melatih Model\n\nKita melatih model menggunakan data pelatihan.\n## Langkah 5: Mengevaluasi Model\n\nTerakhir, kita mengevaluasi kinerja model pada data pengujian.\n",
      "metadata": {}
    },
    {
      "cell_type": "code",
      "source": "import tensorflow as tf\nfrom tensorflow.keras.datasets import mnist\nfrom tensorflow.keras.models import Sequential\nfrom tensorflow.keras.layers import Dense, Flatten\nfrom tensorflow.keras.utils import to_categorical\n# Load MNIST dataset\n(x_train, y_train), (x_test, y_test) = mnist.load_data()\n\n# Normalize the data\nx_train, x_test = x_train / 255.0, x_test / 255.0\n\n# One-hot encode the labels\ny_train = to_categorical(y_train, 10)\ny_test = to_categorical(y_test, 10)\n# Build the model\nmodel = Sequential([\n    Flatten(input_shape=(28, 28)),\n    Dense(128, activation='relu'),\n    Dense(10, activation='softmax')\n])\n\n# Compile the model\nmodel.compile(optimizer='adam',\n              loss='categorical_crossentropy',\n              metrics=['accuracy'])\n# Train the model\nmodel.fit(x_train, y_train, epochs=5, validation_data=(x_test, y_test))\n# Evaluate the model\nloss, accuracy = model.evaluate(x_test, y_test)\nprint(f'Test accuracy: {accuracy}')\n",
      "metadata": {
        "trusted": true
      },
      "outputs": [],
      "execution_count": null
    }
  ]
}